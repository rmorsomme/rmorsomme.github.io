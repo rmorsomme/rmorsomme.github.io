{
  "cells": [
    {
      "cell_type": "raw",
      "metadata": {},
      "source": [
        "---\n",
        "title: \"Raphaël Morsomme\"\n",
        "about:\n",
        "  template: trestles\n",
        "  image: images/raphael.jpg\n",
        "  links:\n",
        "    - icon: envelope\n",
        "#     text: Email\n",
        "      href: mailto:raphael.morsomme@duke.edu\n",
        "    - icon: github\n",
        "#     text: Github\n",
        "      href: https://github.com/rmorsomme\n",
        "    - text: Google Scholar\n",
        "#     icon: google-scholar\n",
        "      href: https://scholar.google.com/citations?user=6DZTZJYAAAAJ&hl=en\n",
        "---"
      ],
      "id": "659faa18"
    },
    {
      "cell_type": "markdown",
      "metadata": {},
      "source": [
        "```{css, echo=FALSE}\n",
        ".title {\n",
        "  font-size: 100px;\n",
        "  font-style: italic;\n",
        "  color: blue;\n",
        "  font-family: Arial;\n",
        "  font-variant: small-caps;\n",
        "}\n",
        "```\n",
        "\n",
        "\n",
        "\n",
        "\n",
        "I am a Bayesian statistician, currently a Ph.D. candidate in statistical science at Duke University under the supervision of Dr. Jason Xu. I develop efficient **Markov Chain Monte Carlo algorithms** for problems characterized by **high-dimensional missing data** with applications in contagious disease modeling, oncology and clinical studies.\n",
        "\n",
        "I taught STA101 Data Analysis and Statistical Inference in Summer 2021 and Summer 2022 and am mentoring Jenny Huang (major in statistical science) and Min Chen (Masters in statistical science).\n",
        "\n",
        "I am spending this summer at the National Institute of Allergy and Infectious Diseases, NIH, where I develop a Julia package that implements a MCEM algorithms for fitting semi-Markov multistate models to panel data.\n",
        "\n",
        "When not designing new MCMC samplers, I enjoy playing tennis, model making and cooking. I am also a big fan of Formula 1."
      ],
      "id": "b8e661b6"
    }
  ],
  "metadata": {
    "kernelspec": {
      "display_name": "Python 3",
      "language": "python",
      "name": "python3"
    }
  },
  "nbformat": 4,
  "nbformat_minor": 5
}